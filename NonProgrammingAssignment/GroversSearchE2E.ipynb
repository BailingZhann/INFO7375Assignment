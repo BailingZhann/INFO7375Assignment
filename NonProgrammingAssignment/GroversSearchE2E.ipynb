{
 "cells": [
  {
   "cell_type": "markdown",
   "metadata": {},
   "source": [
    "# Programming Assignment 7.2. Grover's Search Algorithm End to End\n",
    "\n",
    "In the second part of this assignment, you will explore the behavior of Grover's search algorithm on Kakuro puzzle instances of increasing size."
   ]
  },
  {
   "cell_type": "code",
   "execution_count": 2,
   "metadata": {},
   "outputs": [
    {
     "data": {
      "application/javascript": "// Copyright (c) Microsoft Corporation.\n// Licensed under the MIT License.\n\n// This file provides CodeMirror syntax highlighting for Q# magic cells\n// in classic Jupyter Notebooks. It does nothing in other (Jupyter Notebook 7,\n// VS Code, Azure Notebooks, etc.) environments.\n\n// Detect the prerequisites and do nothing if they don't exist.\nif (window.require && window.CodeMirror && window.Jupyter) {\n  // The simple mode plugin for CodeMirror is not loaded by default, so require it.\n  window.require([\"codemirror/addon/mode/simple\"], function defineMode() {\n    let rules = [\n      {\n        token: \"comment\",\n        regex: /(\\/\\/).*/,\n        beginWord: false,\n      },\n      {\n        token: \"string\",\n        regex: String.raw`^\\\"(?:[^\\\"\\\\]|\\\\[\\s\\S])*(?:\\\"|$)`,\n        beginWord: false,\n      },\n      {\n        token: \"keyword\",\n        regex: String.raw`(namespace|open|as|operation|function|body|adjoint|newtype|controlled|internal)\\b`,\n        beginWord: true,\n      },\n      {\n        token: \"keyword\",\n        regex: String.raw`(if|elif|else|repeat|until|fixup|for|in|return|fail|within|apply)\\b`,\n        beginWord: true,\n      },\n      {\n        token: \"keyword\",\n        regex: String.raw`(Adjoint|Controlled|Adj|Ctl|is|self|auto|distribute|invert|intrinsic)\\b`,\n        beginWord: true,\n      },\n      {\n        token: \"keyword\",\n        regex: String.raw`(let|set|use|borrow|mutable)\\b`,\n        beginWord: true,\n      },\n      {\n        token: \"operatorKeyword\",\n        regex: String.raw`(not|and|or)\\b|(w/)`,\n        beginWord: true,\n      },\n      {\n        token: \"operatorKeyword\",\n        regex: String.raw`(=)|(!)|(<)|(>)|(\\+)|(-)|(\\*)|(/)|(\\^)|(%)|(\\|)|(&&&)|(~~~)|(\\.\\.\\.)|(\\.\\.)|(\\?)`,\n        beginWord: false,\n      },\n      {\n        token: \"meta\",\n        regex: String.raw`(Int|BigInt|Double|Bool|Qubit|Pauli|Result|Range|String|Unit)\\b`,\n        beginWord: true,\n      },\n      {\n        token: \"atom\",\n        regex: String.raw`(true|false|Pauli(I|X|Y|Z)|One|Zero)\\b`,\n        beginWord: true,\n      },\n    ];\n    let simpleRules = [];\n    for (let rule of rules) {\n      simpleRules.push({\n        token: rule.token,\n        regex: new RegExp(rule.regex, \"g\"),\n        sol: rule.beginWord,\n      });\n      if (rule.beginWord) {\n        // Need an additional rule due to the fact that CodeMirror simple mode doesn't work with ^ token\n        simpleRules.push({\n          token: rule.token,\n          regex: new RegExp(String.raw`\\W` + rule.regex, \"g\"),\n          sol: false,\n        });\n      }\n    }\n\n    // Register the mode defined above with CodeMirror\n    window.CodeMirror.defineSimpleMode(\"qsharp\", { start: simpleRules });\n    window.CodeMirror.defineMIME(\"text/x-qsharp\", \"qsharp\");\n\n    // Tell Jupyter to associate %%qsharp magic cells with the qsharp mode\n    window.Jupyter.CodeCell.options_default.highlight_modes[\"qsharp\"] = {\n      reg: [/^%%qsharp/],\n    };\n\n    // Force re-highlighting of all cells the first time this code runs\n    for (const cell of window.Jupyter.notebook.get_cells()) {\n      cell.auto_highlight();\n    }\n  });\n}\n",
      "text/plain": []
     },
     "metadata": {},
     "output_type": "display_data"
    }
   ],
   "source": [
    "import qsharp"
   ]
  },
  {
   "cell_type": "markdown",
   "metadata": {},
   "source": [
    "## The phase oracle (not graded)\n",
    "The first step of solving a problem using Grover's algorithm is defining an oracle. \n",
    "\n",
    "**This step is not graded in the notebook! You need to use the oracle you implemented in task 4 of the assignment 7.1 and the phase kickback trick. You can use the testing harness from that assignment to check that your solution is correct.**"
   ]
  },
  {
   "cell_type": "code",
   "execution_count": 3,
   "metadata": {
    "microsoft": {
     "language": "qsharp"
    },
    "vscode": {
     "languageId": "qsharp"
    }
   },
   "outputs": [],
   "source": [
    "%%qsharp\n",
    "operation KakuroPhaseOracle(\n",
    "    qs : Qubit[], \n",
    "    rowConstr : Int[], \n",
    "    colConstr : Int[]\n",
    ") : Unit is Adj + Ctl {\n",
    "    use aux = Qubit();\n",
    "\n",
    "    within {\n",
    "        Task4(qs, aux, rowConstr, colConstr);\n",
    "    } apply {\n",
    "        Z(aux);\n",
    "    }\n",
    "}\n",
    "\n",
    "operation Task4(\n",
    "    x : Qubit[], \n",
    "    y : Qubit,\n",
    "    rowConstr : Int[],\n",
    "    colConstr : Int[]\n",
    ") : Unit is Adj + Ctl {\n",
    "    let R = Length(rowConstr);\n",
    "    let C = Length(colConstr);\n",
    "    let totalQubits = Length(x);\n",
    "\n",
    "    let rowSumRegSize = Microsoft.Quantum.Math.BitSizeI(C + 1);\n",
    "    let colSumRegSize = Microsoft.Quantum.Math.BitSizeI(R + 1);\n",
    "\n",
    "    use rowSumRegs = Qubit[R * rowSumRegSize];\n",
    "    use colSumRegs = Qubit[C * colSumRegSize];\n",
    "    use rowAux = Qubit[R];\n",
    "    use colAux = Qubit[C];\n",
    "\n",
    "    within {\n",
    "        for r in 0 .. R - 1 {\n",
    "            let sumRegStart = r * rowSumRegSize;\n",
    "            let sumRegEnd = sumRegStart + rowSumRegSize - 1;\n",
    "            let sumReg = rowSumRegs[sumRegStart .. sumRegEnd];\n",
    "\n",
    "            for c in 0 .. C - 1 {\n",
    "                let idx = r * C + c;\n",
    "                let q = x[idx];\n",
    "\n",
    "                Controlled IncrementLE([q], sumReg);\n",
    "            }\n",
    "\n",
    "            ApplyControlledOnInt(rowConstr[r], X, sumReg, rowAux[r]);\n",
    "        }\n",
    "\n",
    "        for c in 0 .. C - 1 {\n",
    "            let sumRegStart = c * colSumRegSize;\n",
    "            let sumRegEnd = sumRegStart + colSumRegSize - 1;\n",
    "            let sumReg = colSumRegs[sumRegStart .. sumRegEnd];\n",
    "\n",
    "            for r in 0 .. R - 1 {\n",
    "                let idx = r * C + c;\n",
    "                let q = x[idx];\n",
    "\n",
    "                Controlled IncrementLE([q], sumReg);\n",
    "            }\n",
    "\n",
    "            ApplyControlledOnInt(colConstr[c], X, sumReg, colAux[c]);\n",
    "        }\n",
    "    } apply {\n",
    "        let allAux = rowAux + colAux;\n",
    "        Controlled X(allAux, y);\n",
    "    }\n",
    "}\n",
    "\n",
    "operation IncrementLE(register : Qubit[]) : Unit is Adj + Ctl {\n",
    "    if Length(register) > 1 {\n",
    "        Controlled IncrementLE([register[0]], register[1 ...]);\n",
    "    }\n",
    "    X(register[0]);\n",
    "}"
   ]
  },
  {
   "cell_type": "markdown",
   "metadata": {
    "nteract": {
     "transient": {
      "deleting": false
     }
    }
   },
   "source": [
    "### Task 1. Find the optimal number of iterations for two puzzles (2 points = 1 point per puzzle)\n",
    "\n",
    "Your task is to calculate the optimal number of iterations for two small puzzles based on the size of the search space and the known number of problem solutions. **Write the answer and your calculations in separate cells in this notebook.**"
   ]
  },
  {
   "cell_type": "markdown",
   "metadata": {},
   "source": [
    "#### Puzzle 1.\n",
    "\n",
    "|   | 1 | 1 |\n",
    "|---|---|---|\n",
    "| **1** |   |   |\n",
    "| **1** |   |   |"
   ]
  },
  {
   "cell_type": "markdown",
   "metadata": {},
   "source": [
    "#### Puzzle 1 Solution and Answer\n",
    "\n",
    "**Write your calculations here**\n",
    "\n",
    "#### Formula for Optimal Iterations:\n",
    "\n",
    "$$\n",
    "k = \\left\\lfloor \\frac{\\pi}{4} \\sqrt{\\frac{N}{M}} \\right\\rfloor\n",
    "$$\n",
    "\n",
    "Where:\n",
    "- \\(N\\): Total number of possible states (search space size).\n",
    "- \\(M\\): Number of valid solutions.\n",
    "- \\(k\\): Optimal number of iterations (rounded down).\n",
    "\n",
    "1. **Search Space Size \\(N\\)**:  \n",
    "   The puzzle is **2x2**, requiring **4 qubits**, so:\n",
    "\n",
    "   $$\n",
    "   N = 2^4 = 16\n",
    "   $$\n",
    "\n",
    "2. **Number of Valid Solutions \\(M\\)**:  \n",
    "   The puzzle has **2 solutions**.\n",
    "   \n",
    "3. **Optimal Number of Iterations \\(k_1\\)**:\n",
    "\n",
    "   $$\n",
    "   k_1 = \\left\\lfloor \\frac{\\pi}{4} \\sqrt{\\frac{16}{2}} \\right\\rfloor\n",
    "   $$\n",
    "\n",
    "   $$\n",
    "   = \\left\\lfloor \\frac{\\pi}{4} \\times \\sqrt{8} \\right\\rfloor\n",
    "   $$\n",
    "\n",
    "   $$\n",
    "   = \\left\\lfloor \\frac{\\pi}{4} \\times 2\\sqrt{2} \\right\\rfloor\n",
    "   $$\n",
    "\n",
    "   $$\n",
    "   = \\left\\lfloor 2.22 \\right\\rfloor = 2\n",
    "   $$\n",
    "\n",
    "4. **Conclusion for Puzzle 1**:  \n",
    "   - **Optimal Iterations \\(k_1\\)**: **2**"
   ]
  },
  {
   "cell_type": "markdown",
   "metadata": {},
   "source": [
    "#### Puzzle 2.\n",
    "\n",
    "|   | 1 | 2 | 1 |\n",
    "|---|---|---|---|\n",
    "| **1** |   |   |   |\n",
    "| **2** |   |   |   |\n",
    "| **1** |   |   |   |"
   ]
  },
  {
   "cell_type": "markdown",
   "metadata": {},
   "source": [
    "#### Puzzle 2 Solution and Answer\n",
    "\n",
    "**Write your calculations here**\n",
    "\n",
    "1. **Search Space Size \\(N\\)**: \n",
    "The puzzle is **3x3**, requiring **9 qubits**, so:\n",
    "\n",
    "$$\n",
    "N = 2^9 = 512\n",
    "$$\n",
    "\n",
    "2. **Number of Valid Solutions \\(M\\)**:  \n",
    "Based on the latest plot, the puzzle has **5 valid solutions**.\n",
    "\n",
    "3. **Optimal Number of Iterations \\(k_1\\)**:\n",
    "\n",
    "\n",
    "$$\n",
    "k_2 = \\left\\lfloor \\frac{\\pi}{4} \\sqrt{\\frac{512}{5}} \\right\\rfloor\n",
    "$$\n",
    "\n",
    "$$\n",
    "= \\left\\lfloor \\frac{\\pi}{4} \\times \\sqrt{102.4} \\right\\rfloor\n",
    "$$\n",
    "\n",
    "$$\n",
    "= \\left\\lfloor 7.95 \\right\\rfloor = 7\n",
    "$$\n",
    "\n",
    "4. **Conclusion for Puzzle 1**:  \n",
    "- **Optimal Iterations \\(k_2\\)**: **7**"
   ]
  },
  {
   "cell_type": "markdown",
   "metadata": {},
   "source": [
    "### Task 2. Solve the two puzzles using Grover's search (2 points = 1 point per puzzle)\n",
    "\n",
    "Your task is to use the provided Grover's search implementation to solve the two puzzles from task 1. Use the optimal number of iterations you've calculated in task 1. **Plot the results using the provided code, indicate the correct results among all results, and save the plots as part of the notebook.**"
   ]
  },
  {
   "cell_type": "code",
   "execution_count": 4,
   "metadata": {
    "jupyter": {
     "outputs_hidden": false,
     "source_hidden": false
    },
    "microsoft": {
     "language": "qsharp"
    },
    "nteract": {
     "transient": {
      "deleting": false
     }
    },
    "vscode": {
     "languageId": "qsharp"
    }
   },
   "outputs": [],
   "source": [
    "%%qsharp\n",
    "operation KakuroGroversSearch(iterations : Int, rowConstr : Int[], colConstr : Int[]) : Result[] {\n",
    "    let N = Length(rowConstr) * Length(colConstr);\n",
    "    use qs = Qubit[N];\n",
    "    ApplyToEach(H, qs);\n",
    "\n",
    "    for i in 1 .. iterations {\n",
    "        KakuroPhaseOracle(qs, rowConstr, colConstr);\n",
    "        \n",
    "        within {\n",
    "            ApplyToEachA(H, qs);\n",
    "            ApplyToEachA(X, qs);\n",
    "        } apply {\n",
    "            Controlled Z(qs[...N - 2], qs[N - 1]);\n",
    "        }\n",
    "    }\n",
    "    MResetEachZ(qs)\n",
    "}"
   ]
  },
  {
   "cell_type": "code",
   "execution_count": 5,
   "metadata": {},
   "outputs": [],
   "source": [
    "import matplotlib.pyplot as plt\n",
    "from collections import Counter\n",
    "\n",
    "def plot_results(results):\n",
    "    string_counts = Counter(results)\n",
    "    labels, values = zip(*sorted(string_counts.items()))\n",
    "\n",
    "    plt.bar(labels, values)\n",
    "    plt.xlabel('Results')\n",
    "    plt.xticks(rotation=90)\n",
    "    plt.ylabel('Frequency')\n",
    "    plt.title('Histogram of Kakuro Puzzle Solutions')\n",
    "    plt.show()"
   ]
  },
  {
   "cell_type": "markdown",
   "metadata": {},
   "source": [
    "Edit the number of iterations in the code cell below and run it to plot the results. **Which of the results are correct puzzle solutions?**\n",
    "\n",
    "* 01 10\n",
    "* 10 01"
   ]
  },
  {
   "cell_type": "code",
   "execution_count": 7,
   "metadata": {},
   "outputs": [
    {
     "data": {},
     "metadata": {},
     "output_type": "display_data"
    },
    {
     "data": {
      "image/png": "[encoded data removed]",
      "text/plain": [
       "<Figure size 640x480 with 1 Axes>"
      ]
     },
     "metadata": {},
     "output_type": "display_data"
    }
   ],
   "source": [
    "(row_constr, col_constr) = ([1, 1], [1, 1])\n",
    "iterations = 2\n",
    "shots = 100\n",
    "\n",
    "results = qsharp.run(f\"KakuroGroversSearch({iterations}, {row_constr}, {col_constr})\", shots=shots)\n",
    "R = len(row_constr)\n",
    "C = len(col_constr)\n",
    "res_str = [\"\".join([(\"\\n\" if i > 0 and i % C == 0 else \"\") + (\"1\" if res[i] == qsharp.Result.One else \"0\") for i in range(R * C)]) for res in results]\n",
    "plot_results(res_str)"
   ]
  },
  {
   "cell_type": "markdown",
   "metadata": {},
   "source": [
    "Edit the number of iterations in the code cell below and run it to plot the results. **Which of the results are correct puzzle solutions?**\n",
    "\n",
    "* 001 110 010\n",
    "* 010 011 100\n",
    "* 010 010 101\n",
    "* 010 100 001\n",
    "* 100 011 010"
   ]
  },
  {
   "cell_type": "code",
   "execution_count": 17,
   "metadata": {},
   "outputs": [
    {
     "data": {},
     "metadata": {},
     "output_type": "display_data"
    },
    {
     "data": {
      "image/png": "[encoded data removed]",
      "text/plain": [
       "<Figure size 640x480 with 1 Axes>"
      ]
     },
     "metadata": {},
     "output_type": "display_data"
    }
   ],
   "source": [
    "(row_constr, col_constr) = ([1, 2, 1], [1, 2, 1])\n",
    "iterations = 7\n",
    "shots = 100\n",
    "\n",
    "results = qsharp.run(f\"KakuroGroversSearch({iterations}, {row_constr}, {col_constr})\", shots=shots)\n",
    "R = len(row_constr)\n",
    "C = len(col_constr)\n",
    "res_str = [\"\".join([(\"\\n\" if i > 0 and i % C == 0 else \"\") + (\"1\" if res[i] == qsharp.Result.One else \"0\") for i in range(R * C)]) for res in results]\n",
    "plot_results(res_str)"
   ]
  }
 ],
 "metadata": {
  "kernel_info": {
   "name": "python3"
  },
  "kernelspec": {
   "display_name": "venv",
   "language": "python",
   "name": "python3"
  },
  "language_info": {
   "codemirror_mode": {
    "name": "ipython",
    "version": 3
   },
   "file_extension": ".py",
   "mimetype": "text/x-python",
   "name": "python",
   "nbconvert_exporter": "python",
   "pygments_lexer": "ipython3",
   "version": "3.13.0"
  },
  "nteract": {
   "version": "nteract-front-end@1.0.0"
  }
 },
 "nbformat": 4,
 "nbformat_minor": 2
}
